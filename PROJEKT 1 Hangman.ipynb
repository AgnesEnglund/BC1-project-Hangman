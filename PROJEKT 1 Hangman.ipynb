{
 "cells": [
  {
   "cell_type": "code",
   "execution_count": 1,
   "metadata": {},
   "outputs": [],
   "source": [
    "def input_char():\n",
    "    # Funktionen ser till att ta emot rätt input från användaren\n",
    "    # Bokstaven som användaren gissar på sparas\n",
    "    \n",
    "    # Användarens input sparas i variabeln user_input\n",
    "    user_input = input(\"\\nvälj en bokstav a-z: \")\n",
    "    # Användarens gissningar sparas i variabeln letter_guesses, och visas för användaren\n",
    "    print(f\"du har gissat på: {letter_guesses}\")\n",
    "    \n",
    "    # Tar emot användarens gissning om den finns i alfabetet(char_lst) \n",
    "    # och inte har gissats på förut\n",
    "    while user_input not in char_lst:\n",
    "        if user_input not in char_lst and user_input not in letter_guesses:\n",
    "            user_input = input(\"\\nfel input, välj en bokstav: \")\n",
    "        else:\n",
    "            user_input = input(f\"\\ndu har redan valt {user_input}, välj en fräsch bokstav: \")\n",
    "    \n",
    "    # Användarens gissning sparas i listan letter_guesses och tas bort från listan char_lst\n",
    "    if user_input in char_lst:\n",
    "        letter_guesses.append(user_input)\n",
    "        char_lst.remove(user_input)\n",
    "  \n",
    "    # Returnerar användarens gissning\n",
    "    return user_input\n",
    "    "
   ]
  },
  {
   "cell_type": "code",
   "execution_count": 2,
   "metadata": {},
   "outputs": [],
   "source": [
    "def get_user_word (user_input):\n",
    "    # Funktionen tar emot användarens gissning (user_input)\n",
    "    # och indexerar det slumpmässigt valda ordet (word)\n",
    "    # för att visa användaren på vilken plats i ordet den korrekta bokstaven befinner sig\n",
    "    # Rätta gissningar sparas i variabeln str_solution\n",
    "    \n",
    "    for idx, letter in enumerate(word):\n",
    "        if user_input == letter:\n",
    "            str_solution[idx] = user_input\n",
    "    \n",
    "        "
   ]
  },
  {
   "cell_type": "code",
   "execution_count": 3,
   "metadata": {},
   "outputs": [],
   "source": [
    "def draw_hangman(guesses_left):\n",
    "    # Funktionen visar användaren en gubbe som hängs, baserat på antal felaktiga gissningar\n",
    "    \n",
    "    if (guesses_left == 6):\n",
    "        print(\"_________\")\n",
    "        print(\"|\t |\")\n",
    "        print(\"|\")\n",
    "        print(\"|\")\n",
    "        print(\"|\")\n",
    "        print(\"|\")\n",
    "        print(\"|________\")\n",
    "    elif (guesses_left == 5):\n",
    "        print(\"_________\")\n",
    "        print(\"|\t |\")\n",
    "        print(\"|\t O\")\n",
    "        print(\"|\")\n",
    "        print(\"|\")\n",
    "        print(\"|\")\n",
    "        print(\"|________\")\n",
    "    elif (guesses_left == 4):\n",
    "        print(\"_________\")\n",
    "        print(\"|\t |\")\n",
    "        print(\"|\t O\")\n",
    "        print(\"|\t |\")\n",
    "        print(\"|\t |\")\n",
    "        print(\"|\")\n",
    "        print(\"|________\")\n",
    "    elif (guesses_left == 3):\n",
    "        print(\"_________\")\n",
    "        print(\"|\t |\")\n",
    "        print(\"|\t O\")\n",
    "        print(\"|\t\\|\")\n",
    "        print(\"|\t |\")\n",
    "        print(\"|\")\n",
    "        print(\"|________\")\n",
    "    elif (guesses_left == 2):\n",
    "        print(\"_________\")\n",
    "        print(\"|\t |\")\n",
    "        print(\"|\t O\")\n",
    "        print(\"|\t\\|/\")\n",
    "        print(\"|\t |\")\n",
    "        print(\"|\")\n",
    "        print(\"|________\")\n",
    "    elif (guesses_left == 1):\n",
    "        print(\"_________\")\n",
    "        print(\"|\t |\")\n",
    "        print(\"|\t O\")\n",
    "        print(\"|\t\\|/\")\n",
    "        print(\"|\t |\")\n",
    "        print(\"|\t/ \")\n",
    "        print(\"|________\")\n",
    "    elif (guesses_left == 0):\n",
    "        print(\"_________\")\n",
    "        print(\"|\t |\")\n",
    "        print(\"|\t O\")\n",
    "        print(\"|\t\\|/\")\n",
    "        print(\"|\t |\")\n",
    "        print(\"|\t/ \\ \")\n",
    "        print(\"|________\")"
   ]
  },
  {
   "cell_type": "code",
   "execution_count": null,
   "metadata": {
    "scrolled": true
   },
   "outputs": [
    {
     "name": "stdout",
     "output_type": "stream",
     "text": [
      "\n",
      "SPELA HÄNGA GUBBE!\n",
      "\n",
      "_________\n",
      "|\t |\n",
      "|\n",
      "|\n",
      "|\n",
      "|\n",
      "|________\n",
      "\n",
      "välj en bokstav a-z: \n",
      "du har gissat på: []\n"
     ]
    }
   ],
   "source": [
    "# Globala variabler som används i spelet:\n",
    "\n",
    "# secret_lst anger möjliga ord att gissa på \n",
    "secret_lst = [\"murder\", \"death\", \"chainsaw\"]\n",
    "# random importeras för att ett ord ska kunna slumpas\n",
    "import random\n",
    "# det slumpmässigt valda ordet från secret_lst sparas i variabeln word\n",
    "word = random.choice(secret_lst)\n",
    "# i char_lst finns valbara bokstäver att gissa på (alfabetet)\n",
    "char_lst = ['a','b','c','d','e','f','g','h','i','j','k','l','m','n','o','p','q','r','s','t','u','v','w','x','y','z']\n",
    "# str_solution är en variabel för användarens rätta gissningar, vilken ursprungligen visar '*' för antal bokstäver i word\n",
    "str_solution = [\"*\" for x in range(len(word))]\n",
    "# guesses_left håller koll på antal gissningar användaren har kvar, vilken initieras till 6 gissningar\n",
    "guesses_left = 6\n",
    "# letter_guesses sparar användarens gissningar, för att visa på vilka bokstäver som inte längre kan gissas på\n",
    "letter_guesses = []\n",
    "\n",
    "print(\"\\nSPELA HÄNGA GUBBE!\\n\")\n",
    "# spelet är igång så länge användaren har fler än 0 gissningar kvar och ordet inte är löst\n",
    "while guesses_left > 0 and '*' in str_solution:\n",
    "    # draw_hangman visualiserar användarens status i spelet\n",
    "    draw_hangman(guesses_left)\n",
    "    # användarens gissade bokstav sparas i variabeln letter\n",
    "    letter = input_char()\n",
    "    # om den gissade bokstaven finns i det eftersökta ordet\n",
    "    # visas den bokstaven på rätt plats i ordet för användaren\n",
    "    # användaren meddelas även att bokstaven finns i ordet\n",
    "    if letter in word: \n",
    "        get_user_word(letter)\n",
    "        print(\"\".join(str_solution))\n",
    "        print(f\"{letter} finns i ordet\\n\")\n",
    "        # om ordet är löst, meddelas användaren att denne vunnit \n",
    "        if '*' not in str_solution:\n",
    "            print(\"Grattis! Du vann!\")\n",
    "\n",
    "        else:\n",
    "            pass\n",
    "    \n",
    "    # om den gissade bokstaven inte finns i det eftersökta ordet\n",
    "    # minskar variablen guesses_left med 1\n",
    "    # användaren meddelas hur många gissningar denne har kvar\n",
    "    else:\n",
    "        guesses_left-=1\n",
    "        print(\"\".join(str_solution))\n",
    "        print(f\"{guesses_left} gissningar kvar\\n\")\n",
    "        # om användaren har slut på gissningar\n",
    "        # visualiseras förlusten med en hängd gubbe\n",
    "        # användaren meddelas att denne förlorat, och vilket det eftersökta ordet var\n",
    "        if guesses_left == 0:\n",
    "            draw_hangman(guesses_left)\n",
    "            print(f\"\\nDu har förlorat! Ordet var: {word}\")\n",
    "        \n"
   ]
  },
  {
   "cell_type": "code",
   "execution_count": null,
   "metadata": {},
   "outputs": [],
   "source": []
  },
  {
   "cell_type": "code",
   "execution_count": null,
   "metadata": {},
   "outputs": [],
   "source": []
  },
  {
   "cell_type": "code",
   "execution_count": null,
   "metadata": {},
   "outputs": [],
   "source": []
  },
  {
   "cell_type": "code",
   "execution_count": null,
   "metadata": {},
   "outputs": [],
   "source": []
  },
  {
   "cell_type": "code",
   "execution_count": null,
   "metadata": {},
   "outputs": [],
   "source": []
  },
  {
   "cell_type": "code",
   "execution_count": null,
   "metadata": {},
   "outputs": [],
   "source": []
  },
  {
   "cell_type": "code",
   "execution_count": null,
   "metadata": {},
   "outputs": [],
   "source": []
  },
  {
   "cell_type": "code",
   "execution_count": null,
   "metadata": {},
   "outputs": [],
   "source": []
  },
  {
   "cell_type": "code",
   "execution_count": null,
   "metadata": {},
   "outputs": [],
   "source": []
  },
  {
   "cell_type": "code",
   "execution_count": null,
   "metadata": {},
   "outputs": [],
   "source": []
  },
  {
   "cell_type": "code",
   "execution_count": null,
   "metadata": {},
   "outputs": [],
   "source": []
  },
  {
   "cell_type": "code",
   "execution_count": null,
   "metadata": {},
   "outputs": [],
   "source": []
  },
  {
   "cell_type": "code",
   "execution_count": null,
   "metadata": {},
   "outputs": [],
   "source": []
  },
  {
   "cell_type": "code",
   "execution_count": null,
   "metadata": {},
   "outputs": [],
   "source": []
  },
  {
   "cell_type": "code",
   "execution_count": null,
   "metadata": {},
   "outputs": [],
   "source": []
  },
  {
   "cell_type": "code",
   "execution_count": null,
   "metadata": {},
   "outputs": [],
   "source": []
  },
  {
   "cell_type": "code",
   "execution_count": null,
   "metadata": {},
   "outputs": [],
   "source": []
  }
 ],
 "metadata": {
  "kernelspec": {
   "display_name": "Python 3",
   "language": "python",
   "name": "python3"
  },
  "language_info": {
   "codemirror_mode": {
    "name": "ipython",
    "version": 3
   },
   "file_extension": ".py",
   "mimetype": "text/x-python",
   "name": "python",
   "nbconvert_exporter": "python",
   "pygments_lexer": "ipython3",
   "version": "3.8.3"
  }
 },
 "nbformat": 4,
 "nbformat_minor": 4
}
